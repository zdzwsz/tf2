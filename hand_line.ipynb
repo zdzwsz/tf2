{
 "cells": [
  {
   "cell_type": "code",
   "execution_count": 50,
   "metadata": {},
   "outputs": [],
   "source": [
    "import tensorflow as tf\n",
    "import numpy as np\n",
    "from matplotlib import pyplot as plt"
   ]
  },
  {
   "cell_type": "code",
   "execution_count": 58,
   "metadata": {},
   "outputs": [
    {
     "data": {
      "image/png": "[encoded data removed]",
      "text/plain": [
       "<Figure size 432x288 with 1 Axes>"
      ]
     },
     "metadata": {
      "needs_background": "light"
     },
     "output_type": "display_data"
    }
   ],
   "source": [
    "N = 70\n",
    "X = np.linspace(-10,10,N)\n",
    "Y = X * 2 + 5 + np.random.randn(N)\n",
    "\n",
    "plt.title('data')  \n",
    "plt.xlabel('x')  \n",
    "plt.ylabel('y')  \n",
    "plt.plot(X,Y,\"ob\")  \n",
    "plt.legend(\"test\")  \n",
    "plt.show()  "
   ]
  },
  {
   "cell_type": "code",
   "execution_count": 59,
   "metadata": {},
   "outputs": [],
   "source": [
    "w = tf.Variable(tf.zeros([1]))\n",
    "b = tf.Variable(tf.zeros([1]))\n",
    "\n",
    "epochs = 240\n",
    "\n",
    "lr = 0.01"
   ]
  },
  {
   "attachments": {
    "image-2.png": {
     "image/png": "[encoded data removed]"
    },
    "image-3.png": {
     "image/png": "[encoded data removed]"
    },
    "image-4.png": {
     "image/png": "[encoded data removed]"
    },
    "image.png": {
     "image/png": "[encoded data removed]"
    }
   },
   "cell_type": "markdown",
   "metadata": {},
   "source": [
    "###计算公式：\n",
    "采用公式求梯度\n",
    "![image.png](attachment:image.png)\n",
    "![image-2.png](attachment:image-2.png)\n",
    "![image-3.png](attachment:image-3.png)\n",
    "![image-4.png](attachment:image-4.png)"
   ]
  },
  {
   "cell_type": "code",
   "execution_count": 60,
   "metadata": {},
   "outputs": [
    {
     "name": "stdout",
     "output_type": "stream",
     "text": [
      "epoch : 0 current_loss: tf.Tensor([132.8789], shape=(1,), dtype=float32)\n",
      "epoch : 40 current_loss: tf.Tensor([6.446774], shape=(1,), dtype=float32)\n",
      "epoch : 80 current_loss: tf.Tensor([1.7266585], shape=(1,), dtype=float32)\n",
      "epoch : 120 current_loss: tf.Tensor([0.5898707], shape=(1,), dtype=float32)\n",
      "epoch : 160 current_loss: tf.Tensor([0.2752881], shape=(1,), dtype=float32)\n",
      "epoch : 200 current_loss: tf.Tensor([0.17323712], shape=(1,), dtype=float32)\n"
     ]
    }
   ],
   "source": [
    "for epoch in range(epochs):\n",
    "    current_w, current_b = 0., 0.\n",
    "    for i in range(0, N):\n",
    "        current_w = current_w + 2/N * (w * X[i] + b - Y[i])* X[i]\n",
    "        current_b = current_b + 2/N * (w * X[i] + b - Y[i])\n",
    "    w = w - lr * current_w\n",
    "    b = b - lr * current_b\n",
    "    if epoch % 40 == 0:\n",
    "        current_loss = 0.\n",
    "        for j in range(0, N):\n",
    "            current_loss = current_loss + 1/N * (w * X[i] + b -Y[i])**2\n",
    "        print('epoch :',epoch, 'current_loss:', current_loss)"
   ]
  },
  {
   "cell_type": "code",
   "execution_count": 61,
   "metadata": {},
   "outputs": [
    {
     "name": "stdout",
     "output_type": "stream",
     "text": [
      "last weight w=[1.9871129] and b=[5.020114]\n"
     ]
    }
   ],
   "source": [
    "print('last weight w={0} and b={1}'.format(w,b))"
   ]
  },
  {
   "cell_type": "code",
   "execution_count": 68,
   "metadata": {},
   "outputs": [],
   "source": [
    "w1 = tf.Variable(tf.zeros([1]),dtype=tf.float32)\n",
    "b1 = tf.Variable(tf.zeros([1]),dtype=tf.float32)"
   ]
  },
  {
   "cell_type": "code",
   "execution_count": 69,
   "metadata": {},
   "outputs": [
    {
     "name": "stdout",
     "output_type": "stream",
     "text": [
      "epoch : 0 current_loss: [19.404888]\n",
      "epoch : 10 current_loss: [1.5112693]\n",
      "epoch : 20 current_loss: [1.5059667]\n",
      "epoch : 30 current_loss: [1.5059394]\n",
      "epoch : 40 current_loss: [1.5059394]\n",
      "epoch : 50 current_loss: [1.5059394]\n",
      "epoch : 60 current_loss: [1.5059394]\n",
      "epoch : 70 current_loss: [1.5059394]\n"
     ]
    }
   ],
   "source": [
    "epochs = 80\n",
    "for epoch in range(epochs):\n",
    "    total_loss = 0\n",
    "    for i in range(0, N):\n",
    "        with tf.GradientTape(persistent=True) as tape:\n",
    "            loss = tf.square(w1* X[i] + b1  - Y[i])\n",
    "        grads_w = tape.gradient(loss, w1)\n",
    "        w1.assign_sub(lr * grads_w)\n",
    "        grads_b = tape.gradient(loss, b1)\n",
    "        b1.assign_sub(lr * grads_b)\n",
    "        total_loss +=loss\n",
    "    if epoch % 10 == 0 or epoch == 20:\n",
    "        print('epoch :',epoch, 'current_loss:', total_loss.numpy()/N)"
   ]
  },
  {
   "cell_type": "code",
   "execution_count": 70,
   "metadata": {},
   "outputs": [
    {
     "name": "stdout",
     "output_type": "stream",
     "text": [
      "last weight w=[2.019475] and b=[4.9104524]\n"
     ]
    }
   ],
   "source": [
    "print('last weight w={0} and b={1}'.format(w1.numpy(),b1.numpy()))"
   ]
  },
  {
   "cell_type": "code",
   "execution_count": null,
   "metadata": {},
   "outputs": [],
   "source": []
  }
 ],
 "metadata": {
  "kernelspec": {
   "display_name": "Python 3",
   "language": "python",
   "name": "python3"
  },
  "language_info": {
   "codemirror_mode": {
    "name": "ipython",
    "version": 3
   },
   "file_extension": ".py",
   "mimetype": "text/x-python",
   "name": "python",
   "nbconvert_exporter": "python",
   "pygments_lexer": "ipython3",
   "version": "3.6.12"
  }
 },
 "nbformat": 4,
 "nbformat_minor": 4
}
