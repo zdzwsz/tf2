{
 "cells": [
  {
   "cell_type": "code",
   "execution_count": 6,
   "metadata": {},
   "outputs": [],
   "source": [
    "import tensorflow as tf\n",
    "import numpy as np"
   ]
  },
  {
   "cell_type": "code",
   "execution_count": 8,
   "metadata": {},
   "outputs": [],
   "source": [
    "X = np.linspace(-10,10,700)\n",
    "Y = X * 2 + 5 + np.random.randn(700)/100"
   ]
  },
  {
   "cell_type": "code",
   "execution_count": 18,
   "metadata": {},
   "outputs": [],
   "source": [
    "w = tf.Variable(tf.zeros([1]))\n",
    "b = tf.Variable(tf.zeros([1]))\n",
    "\n",
    "epochs = 240\n",
    "N = 700\n",
    "lr = 0.01"
   ]
  },
  {
   "attachments": {
    "image-2.png": {
     "image/png": "[encoded data removed]"
    },
    "image-3.png": {
     "image/png": "[encoded data removed]"
    },
    "image-4.png": {
     "image/png": "[encoded data removed]"
    },
    "image.png": {
     "image/png": "[encoded data removed]"
    }
   },
   "cell_type": "markdown",
   "metadata": {},
   "source": [
    "###计算公式\n",
    "![image.png](attachment:image.png)\n",
    "![image-2.png](attachment:image-2.png)\n",
    "![image-3.png](attachment:image-3.png)\n",
    "![image-4.png](attachment:image-4.png)"
   ]
  },
  {
   "cell_type": "code",
   "execution_count": 15,
   "metadata": {},
   "outputs": [
    {
     "name": "stdout",
     "output_type": "stream",
     "text": [
      "epoch : 0 current_loss: tf.Tensor([133.03369], shape=(1,), dtype=float32)\n",
      "epoch : 10 current_loss: tf.Tensor([16.075796], shape=(1,), dtype=float32)\n",
      "epoch : 20 current_loss: tf.Tensor([10.738516], shape=(1,), dtype=float32)\n",
      "epoch : 30 current_loss: tf.Tensor([7.174638], shape=(1,), dtype=float32)\n",
      "epoch : 40 current_loss: tf.Tensor([4.7942815], shape=(1,), dtype=float32)\n",
      "epoch : 50 current_loss: tf.Tensor([3.2043564], shape=(1,), dtype=float32)\n",
      "epoch : 60 current_loss: tf.Tensor([2.142254], shape=(1,), dtype=float32)\n",
      "epoch : 70 current_loss: tf.Tensor([1.4326373], shape=(1,), dtype=float32)\n",
      "epoch : 80 current_loss: tf.Tensor([0.9584578], shape=(1,), dtype=float32)\n",
      "epoch : 90 current_loss: tf.Tensor([0.64151096], shape=(1,), dtype=float32)\n",
      "epoch : 100 current_loss: tf.Tensor([0.4296231], shape=(1,), dtype=float32)\n",
      "epoch : 110 current_loss: tf.Tensor([0.28791812], shape=(1,), dtype=float32)\n",
      "epoch : 120 current_loss: tf.Tensor([0.19311602], shape=(1,), dtype=float32)\n",
      "epoch : 130 current_loss: tf.Tensor([0.1296644], shape=(1,), dtype=float32)\n",
      "epoch : 140 current_loss: tf.Tensor([0.08716984], shape=(1,), dtype=float32)\n",
      "epoch : 150 current_loss: tf.Tensor([0.05869105], shape=(1,), dtype=float32)\n",
      "epoch : 160 current_loss: tf.Tensor([0.03958852], shape=(1,), dtype=float32)\n",
      "epoch : 170 current_loss: tf.Tensor([0.02676447], shape=(1,), dtype=float32)\n",
      "epoch : 180 current_loss: tf.Tensor([0.0181432], shape=(1,), dtype=float32)\n",
      "epoch : 190 current_loss: tf.Tensor([0.01233917], shape=(1,), dtype=float32)\n",
      "epoch : 200 current_loss: tf.Tensor([0.00842486], shape=(1,), dtype=float32)\n",
      "epoch : 210 current_loss: tf.Tensor([0.00577954], shape=(1,), dtype=float32)\n",
      "epoch : 220 current_loss: tf.Tensor([0.00398673], shape=(1,), dtype=float32)\n",
      "epoch : 230 current_loss: tf.Tensor([0.00276845], shape=(1,), dtype=float32)\n"
     ]
    }
   ],
   "source": [
    "for epoch in range(epochs):\n",
    "    current_w, current_b = 0., 0.\n",
    "    for i in range(0, N):\n",
    "        current_w = current_w + 2/N * (w * X[i] + b - Y[i])* X[i]\n",
    "        current_b = current_b + 2/N * (w * X[i] + b - Y[i])\n",
    "    w = w - lr * current_w\n",
    "    b = b - lr * current_b\n",
    "    if epoch % 40 == 0:\n",
    "        current_loss = 0.\n",
    "        for j in range(0, N):\n",
    "            current_loss = current_loss + 1/N * (w * X[i] + b -Y[i])**2\n",
    "        print('epoch :',epoch, 'current_loss:', current_loss)"
   ]
  },
  {
   "cell_type": "code",
   "execution_count": 16,
   "metadata": {},
   "outputs": [
    {
     "name": "stdout",
     "output_type": "stream",
     "text": [
      "last weight w=[1.9999294] and b=[4.9609203]\n"
     ]
    }
   ],
   "source": [
    "print('last weight w={0} and b={1}'.format(w,b))"
   ]
  },
  {
   "cell_type": "code",
   "execution_count": null,
   "metadata": {},
   "outputs": [],
   "source": []
  }
 ],
 "metadata": {
  "kernelspec": {
   "display_name": "Python 3",
   "language": "python",
   "name": "python3"
  },
  "language_info": {
   "codemirror_mode": {
    "name": "ipython",
    "version": 3
   },
   "file_extension": ".py",
   "mimetype": "text/x-python",
   "name": "python",
   "nbconvert_exporter": "python",
   "pygments_lexer": "ipython3",
   "version": "3.6.12"
  }
 },
 "nbformat": 4,
 "nbformat_minor": 4
}
